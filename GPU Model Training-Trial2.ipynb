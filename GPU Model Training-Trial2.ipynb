{
 "cells": [
  {
   "cell_type": "code",
   "execution_count": 1,
   "id": "bacbdf2c-a479-4d30-aa3d-768a31943a2d",
   "metadata": {},
   "outputs": [],
   "source": [
    "from pathlib import Path\n",
    "import pydicom\n",
    "import numpy as np\n",
    "# import cv2\n",
    "import pandas as pd\n",
    "import matplotlib.pyplot as plt\n",
    "from tqdm.notebook import tqdm\n",
    "\n",
    "default_path = \"C:\\\\Users\\\\write\\\\Desktop\\\\Medical_Images\\\\4_Projects\\\\Pneumonia_Classification\\\\rsna-pneumonia-detection-challenge\\\\\""
   ]
  },
  {
   "cell_type": "code",
   "execution_count": 2,
   "id": "773640ce-e70d-4a16-808f-f3129fea186a",
   "metadata": {},
   "outputs": [],
   "source": [
    "labels = pd.read_csv(default_path + \"stage_2_train_labels.csv\")\n",
    "\n",
    "labels[\"Target\"].value_counts()\n",
    "\n",
    "labels = labels.drop_duplicates(\"patientId\")\n",
    "\n",
    "labels[\"Target\"].value_counts()\n",
    "\n",
    "labels.columns\n",
    "\n",
    "ROOT_PATH = Path(default_path + \"stage_2_train_images/\")\n",
    "SAVE_PATH = Path(default_path + \"Processed\")\n"
   ]
  },
  {
   "cell_type": "code",
   "execution_count": 3,
   "id": "4754106e-4240-49e3-aaa1-97674287419c",
   "metadata": {},
   "outputs": [],
   "source": [
    "import torch\n",
    "import torch.nn as nn\n",
    "import torch.optim as optim\n",
    "from torch.utils.data import DataLoader, Dataset\n",
    "from torchvision import transforms, models\n",
    "from tqdm.notebook import tqdm\n",
    "from PIL import Image\n",
    "import os\n",
    "\n",
    "# Set device (GPU if available)\n",
    "device = torch.device(\"cuda\" if torch.cuda.is_available() else \"cpu\")"
   ]
  },
  {
   "cell_type": "code",
   "execution_count": 4,
   "id": "b812b7dd-0df2-4404-8ee6-fafb907b6c70",
   "metadata": {},
   "outputs": [
    {
     "data": {
      "text/plain": [
       "device(type='cuda')"
      ]
     },
     "execution_count": 4,
     "metadata": {},
     "output_type": "execute_result"
    }
   ],
   "source": [
    "device"
   ]
  },
  {
   "cell_type": "code",
   "execution_count": 5,
   "id": "43a77391-f6c3-4742-8533-49e94139ab9f",
   "metadata": {},
   "outputs": [],
   "source": [
    "# Custom Dataset Class\n",
    "class PneumoniaDataset(Dataset):\n",
    "    def __init__(self, csv_file, image_dir, transform=None):\n",
    "        self.labels = pd.read_csv(csv_file)\n",
    "        self.image_dir = image_dir\n",
    "        self.transform = transform\n",
    "        \n",
    "    def __len__(self):\n",
    "        return len(self.labels)\n",
    "    \n",
    "    def __getitem__(self, idx):\n",
    "        img_name = os.path.join(self.image_dir, f\"{self.labels.iloc[idx, 0]}.dcm\")  # Assuming image names match patient ID\n",
    "        image = pydicom.dcmread(img_name).pixel_array\n",
    "        image = Image.fromarray(image)  # Convert to PIL Image\n",
    "        \n",
    "        label = self.labels.iloc[idx, 1]  # Target label (0 or 1)\n",
    "        \n",
    "        if self.transform:\n",
    "            image = self.transform(image)\n",
    "        \n",
    "        return image, label"
   ]
  },
  {
   "cell_type": "code",
   "execution_count": 6,
   "id": "f04e9b76-5f7c-4892-8cd9-2591b557eef7",
   "metadata": {},
   "outputs": [],
   "source": [
    "# Image transformations for grayscale images\n",
    "transform = transforms.Compose([\n",
    "    transforms.ToTensor(),\n",
    "    transforms.Normalize(mean=[0.49], std=[0.25]),\n",
    "    transforms.RandomAffine(degrees=(-5, 5),\n",
    "                            translate=(0, 0.05),\n",
    "                            scale=(0.9, 1.1)),\n",
    "    transforms.RandomResizedCrop((224, 224), scale=(0.35, 1)),\n",
    "    transforms.Grayscale(num_output_channels=3),  # Convert grayscale to 3 channels\n",
    "])"
   ]
  },
  {
   "cell_type": "code",
   "execution_count": 7,
   "id": "65c7c1c3-bd0b-4430-aab1-d17551538c04",
   "metadata": {},
   "outputs": [
    {
     "name": "stderr",
     "output_type": "stream",
     "text": [
      "C:\\Users\\write\\miniconda3\\envs\\pytorchenv\\lib\\site-packages\\torchvision\\models\\_utils.py:208: UserWarning: The parameter 'pretrained' is deprecated since 0.13 and may be removed in the future, please use 'weights' instead.\n",
      "  warnings.warn(\n",
      "C:\\Users\\write\\miniconda3\\envs\\pytorchenv\\lib\\site-packages\\torchvision\\models\\_utils.py:223: UserWarning: Arguments other than a weight enum or `None` for 'weights' are deprecated since 0.13 and may be removed in the future. The current behavior is equivalent to passing `weights=None`.\n",
      "  warnings.warn(msg)\n"
     ]
    }
   ],
   "source": [
    "# Dataset and DataLoader\n",
    "train_dataset = PneumoniaDataset(csv_file=default_path + \"stage_2_train_labels.csv\", image_dir=ROOT_PATH, transform=transform)\n",
    "train_loader = DataLoader(train_dataset, batch_size=32, shuffle=True)\n",
    "\n",
    "# Model: ResNet18\n",
    "# Load the pre-trained ResNet18 model\n",
    "import torch\n",
    "import torch.nn as nn\n",
    "from torchvision import models\n",
    "\n",
    "# Initialize the ResNet18 model without pretrained weights\n",
    "model = models.resnet18(pretrained=False)\n",
    "\n",
    "# Change the first convolutional layer to accept 1 channel (grayscale images)\n",
    "model.conv1 = nn.Conv2d(1, 64, kernel_size=(7, 7), stride=(2, 2), padding=(3, 3), bias=False)\n",
    "\n",
    "# Modify the final fully connected layer for binary classification (1 output)\n",
    "model.fc = nn.Linear(model.fc.in_features, 1)\n",
    "\n",
    "# Move the model to the device (GPU or CPU)\n",
    "model = model.to(device)"
   ]
  },
  {
   "cell_type": "code",
   "execution_count": 8,
   "id": "1548c862-8ae3-402b-bec4-91a9c4fb2307",
   "metadata": {},
   "outputs": [],
   "source": [
    "# Loss function and optimizer\n",
    "criterion = nn.BCEWithLogitsLoss()\n",
    "optimizer = optim.Adam(model.parameters(), lr=0.001)\n"
   ]
  },
  {
   "cell_type": "code",
   "execution_count": null,
   "id": "91083a1e-f6c7-4c8b-803f-f06d1560316f",
   "metadata": {},
   "outputs": [
    {
     "data": {
      "application/vnd.jupyter.widget-view+json": {
       "model_id": "7323f9c9015146df9e71f10884618a15",
       "version_major": 2,
       "version_minor": 0
      },
      "text/plain": [
       "Epoch 1/35:   0%|          | 0/945 [00:00<?, ?it/s]"
      ]
     },
     "metadata": {},
     "output_type": "display_data"
    }
   ],
   "source": [
    "# Training loop\n",
    "num_epochs = 35\n",
    "for epoch in range(num_epochs):\n",
    "    model.train()\n",
    "    running_loss = 0.0\n",
    "    correct = 0\n",
    "    total = 0\n",
    "    for images, labels in tqdm(train_loader, desc=f\"Epoch {epoch+1}/{num_epochs}\"):\n",
    "        images, labels = images.to(device), labels.to(device)\n",
    "        \n",
    "        # Forward pass\n",
    "        outputs = model(images)\n",
    "        loss = criterion(outputs.squeeze(), labels.float())\n",
    "        \n",
    "        # Backward pass and optimization\n",
    "        optimizer.zero_grad()\n",
    "        loss.backward()\n",
    "        optimizer.step()\n",
    "        \n",
    "        running_loss += loss.item()\n",
    "        \n",
    "        # Compute accuracy\n",
    "        preds = torch.round(torch.sigmoid(outputs))  # Since it's binary classification\n",
    "        correct += (preds == labels).sum().item()\n",
    "        total += labels.size(0)\n",
    "    \n",
    "    epoch_loss = running_loss / len(train_loader)\n",
    "    epoch_acc = correct / total\n",
    "    print(f\"Epoch {epoch+1}/{num_epochs}, Loss: {epoch_loss:.4f}, Accuracy: {epoch_acc*100:.2f}%\")"
   ]
  },
  {
   "cell_type": "code",
   "execution_count": null,
   "id": "aabf4dc3-405f-4ea6-b183-40f5f2facc17",
   "metadata": {},
   "outputs": [],
   "source": [
    "device = torch.device(\"cuda\" if torch.cuda.is_available() else \"cpu\")"
   ]
  },
  {
   "cell_type": "code",
   "execution_count": null,
   "id": "3e8b6499-810a-460f-accc-8901fb22bb7c",
   "metadata": {},
   "outputs": [],
   "source": [
    "# Save the entire model (architecture + weights)\n",
    "torch.save(model, 'pneumonia_resnet18_full_model.pth')"
   ]
  },
  {
   "cell_type": "code",
   "execution_count": null,
   "id": "49d51c5b-72e5-4ca7-90e1-aed157e514d6",
   "metadata": {},
   "outputs": [],
   "source": [
    "Loadedmodel = torch.load('pneumonia_resnet18_full_model.pth')\n",
    "Loadedmodel = Loadedmodel.to(device)  # Send to GPU if needed"
   ]
  },
  {
   "cell_type": "markdown",
   "id": "a9708889-7d7c-4156-9a1e-5d3796918cc2",
   "metadata": {},
   "source": [
    "##  Loading the Model and Using It"
   ]
  },
  {
   "cell_type": "code",
   "execution_count": null,
   "id": "c7076fb8-64f6-4cdb-a5a2-d4145cb878e5",
   "metadata": {},
   "outputs": [],
   "source": [
    "device = torch.device(\"cuda\" if torch.cuda.is_available() else \"cpu\")"
   ]
  },
  {
   "cell_type": "code",
   "execution_count": null,
   "id": "d9de0a6c-a033-4026-b53f-29bc4ac4c04e",
   "metadata": {},
   "outputs": [],
   "source": [
    "model = model."
   ]
  },
  {
   "cell_type": "code",
   "execution_count": null,
   "id": "782a16bd-b1e7-451d-8dc8-af6411a37f5a",
   "metadata": {},
   "outputs": [],
   "source": []
  },
  {
   "cell_type": "code",
   "execution_count": null,
   "id": "5b97f6cd-90f8-48e2-9f29-adb915810685",
   "metadata": {},
   "outputs": [],
   "source": []
  },
  {
   "cell_type": "code",
   "execution_count": null,
   "id": "e7957ff6-f672-4ef6-9ba1-27d0ddb42738",
   "metadata": {},
   "outputs": [],
   "source": []
  },
  {
   "cell_type": "code",
   "execution_count": null,
   "id": "9ab5cdfa-dbc6-414c-a1a8-3c5b8e8c7464",
   "metadata": {},
   "outputs": [],
   "source": []
  },
  {
   "cell_type": "code",
   "execution_count": null,
   "id": "0a1a2d03-6ee7-4203-a549-560ffe813a33",
   "metadata": {},
   "outputs": [],
   "source": []
  },
  {
   "cell_type": "code",
   "execution_count": null,
   "id": "b2cba061-36ba-45a9-92f1-96eaa2a64c6c",
   "metadata": {},
   "outputs": [],
   "source": []
  }
 ],
 "metadata": {
  "kernelspec": {
   "display_name": "Python (pytorchenv)",
   "language": "python",
   "name": "pytorchenv"
  },
  "language_info": {
   "codemirror_mode": {
    "name": "ipython",
    "version": 3
   },
   "file_extension": ".py",
   "mimetype": "text/x-python",
   "name": "python",
   "nbconvert_exporter": "python",
   "pygments_lexer": "ipython3",
   "version": "3.10.15"
  }
 },
 "nbformat": 4,
 "nbformat_minor": 5
}
