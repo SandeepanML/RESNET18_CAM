{
 "cells": [
  {
   "cell_type": "code",
   "execution_count": 1,
   "id": "831b2c0b-4710-4c75-97c4-b121952e55e3",
   "metadata": {},
   "outputs": [],
   "source": [
    "import torch\n",
    "import torchvision\n",
    "from torchvision import transforms\n",
    "import torchmetrics\n",
    "import pytorch_lightning as pl\n",
    "from pytorch_lightning.callbacks import ModelCheckpoint\n",
    "from pytorch_lightning.loggers import TensorBoardLogger\n",
    "import numpy as np\n",
    "import torch.profiler\n",
    "import matplotlib.pyplot as plt\n",
    "import time"
   ]
  },
  {
   "cell_type": "code",
   "execution_count": 2,
   "id": "29d925de-bde9-40ce-b63f-db3d65761218",
   "metadata": {},
   "outputs": [],
   "source": [
    "# Load File function\n",
    "def load_file(path):\n",
    "    return np.load(path).astype(np.float32)\n",
    "\n",
    "# Transformations for training and validation\n",
    "train_transforms = transforms.Compose([\n",
    "    transforms.ToTensor(),  # Convert Loaded Numpy array to tensor\n",
    "    transforms.Normalize(0.4903962485384803, 0.24795070634161256),\n",
    "    transforms.RandomAffine(degrees=(-5, 5),\n",
    "                            translate=(0, 0.05),\n",
    "                            scale=(0.9, 1.1)),\n",
    "    transforms.RandomResizedCrop((224, 224), scale=(0.35, 1))\n",
    "])\n",
    "\n",
    "val_transforms = transforms.Compose([\n",
    "    transforms.ToTensor(),  # Convert Loaded Numpy array to tensor\n",
    "    transforms.Normalize(0.4903962485384803, 0.24795070634161256),\n",
    "])"
   ]
  },
  {
   "cell_type": "code",
   "execution_count": 3,
   "id": "f2677b56-23b8-4980-ba05-fed99fcc8bcf",
   "metadata": {},
   "outputs": [],
   "source": [
    "default_path = \"C:\\\\Users\\\\write\\\\Desktop\\\\Medical_Images\\\\4_Projects\\\\Pneumonia_Classification\\\\rsna-pneumonia-detection-challenge\\\\\""
   ]
  },
  {
   "cell_type": "code",
   "execution_count": 4,
   "id": "92033f91-dcfa-4917-9cba-9dabb473ed79",
   "metadata": {},
   "outputs": [],
   "source": [
    "# Dataset loading\n",
    "train_dataset = torchvision.datasets.DatasetFolder(default_path + \"Processed/train/\",\n",
    "                                                   loader=load_file,\n",
    "                                                   extensions=\"npy\",\n",
    "                                                   transform=train_transforms)\n",
    "\n",
    "val_dataset = torchvision.datasets.DatasetFolder(default_path + \"Processed/val/\",\n",
    "                                                 loader=load_file,\n",
    "                                                 extensions=\"npy\",\n",
    "                                                 transform=val_transforms)"
   ]
  },
  {
   "cell_type": "code",
   "execution_count": 5,
   "id": "37a1f85e-0996-4c97-932f-d988c47078f9",
   "metadata": {},
   "outputs": [],
   "source": [
    "batch_size = 64\n",
    "num_workers = 4"
   ]
  },
  {
   "cell_type": "code",
   "execution_count": 6,
   "id": "5434a65f-f806-45d6-9936-3f65613889ac",
   "metadata": {},
   "outputs": [
    {
     "name": "stdout",
     "output_type": "stream",
     "text": [
      "Number of training samples: 24000\n",
      "Number of validation samples: 2684\n"
     ]
    }
   ],
   "source": [
    "print(f\"Number of training samples: {len(train_dataset)}\")\n",
    "print(f\"Number of validation samples: {len(val_dataset)}\")"
   ]
  },
  {
   "cell_type": "code",
   "execution_count": null,
   "id": "269c9e78-38b5-4e39-9f66-66ed4f934936",
   "metadata": {},
   "outputs": [],
   "source": [
    "train_loader = torch.utils.data.DataLoader(train_dataset, batch_size=batch_size, shuffle=True, num_workers=num_workers, persistent_workers=True)\n",
    "val_loader = torch.utils.data.DataLoader(val_dataset, batch_size=batch_size, shuffle=False, num_workers=num_workers, persistent_workers=True)"
   ]
  },
  {
   "cell_type": "code",
   "execution_count": null,
   "id": "1eea0cdb-1afa-45c1-9b82-388b3b3c8a5c",
   "metadata": {},
   "outputs": [],
   "source": [
    "# Model definition\n",
    "class PneumoniaModel(torch.nn.Module):\n",
    "    def __init__(self):\n",
    "        super().__init__()\n",
    "        self.model = torchvision.models.resnet18(pretrained=True)\n",
    "        self.model.conv1 = torch.nn.Conv2d(1, 64, kernel_size=(7, 7), stride=(2, 2), padding=(3, 3), bias=False)  # Changed color channel to 1\n",
    "        self.model.fc = torch.nn.Linear(in_features=512, out_features=1, bias=True)\n",
    "\n",
    "    def forward(self, data):\n",
    "        return self.model(data)"
   ]
  },
  {
   "cell_type": "code",
   "execution_count": null,
   "id": "a7528547-7919-481a-91a4-360312336db9",
   "metadata": {},
   "outputs": [],
   "source": [
    "# Initialize the model, loss function, and optimizer\n",
    "device = torch.device(\"cuda\" if torch.cuda.is_available() else \"cpu\")\n",
    "model = PneumoniaModel().to(device)"
   ]
  },
  {
   "cell_type": "code",
   "execution_count": null,
   "id": "940d6263-9624-4735-afeb-ffbf889485fc",
   "metadata": {},
   "outputs": [],
   "source": [
    "criterion = torch.nn.BCEWithLogitsLoss(pos_weight=torch.tensor([3])).to(device)\n",
    "optimizer = torch.optim.Adam(model.parameters(), lr=1e-4)"
   ]
  },
  {
   "cell_type": "code",
   "execution_count": null,
   "id": "3561892a-f39c-4584-bdf5-4b7ea5e87e2a",
   "metadata": {},
   "outputs": [],
   "source": [
    "# Profiler settings for performance tracking\n",
    "profiler = torch.profiler.profile(\n",
    "    activities=[torch.profiler.ProfilerActivity.CPU, torch.profiler.ProfilerActivity.CUDA],\n",
    "    schedule=torch.profiler.schedule(wait=1, warmup=1, active=3),\n",
    "    on_trace_ready=torch.profiler.tensorboard_trace_handler('./log')\n",
    ")"
   ]
  },
  {
   "cell_type": "code",
   "execution_count": null,
   "id": "41ead48a-e89b-48f4-bd2b-cf0a8ba0dfa3",
   "metadata": {},
   "outputs": [],
   "source": [
    "# Training loop\n",
    "num_epochs = 35\n",
    "for epoch in range(num_epochs):\n",
    "    model.train()\n",
    "    start_time = time.time()  # Track epoch start time\n",
    "    for batch_idx, (data, targets) in enumerate(train_loader):\n",
    "        # Move data and targets to GPU\n",
    "        data, targets = data.to(device), targets.to(device)\n",
    "\n",
    "        # Zero gradients, perform a backward pass, and update the weights\n",
    "        optimizer.zero_grad()\n",
    "        outputs = model(data)\n",
    "        loss = criterion(outputs, targets)\n",
    "        loss.backward()\n",
    "        optimizer.step()\n",
    "\n",
    "        # Print loss for every 100th batch\n",
    "        if batch_idx % 100 == 0:\n",
    "            print(f\"Epoch {epoch+1}, Batch {batch_idx}, Loss: {loss.item()}\")\n",
    "\n",
    "        # Profiler step\n",
    "        profiler.step()\n",
    "\n",
    "        # Optional: Add timing information to monitor each batch time\n",
    "        batch_time = time.time() - start_time\n",
    "        if batch_idx % 100 == 0:\n",
    "            print(f\"Batch {batch_idx} processed in {batch_time:.4f} seconds\")\n",
    "\n",
    "    print(f\"Epoch {epoch+1} completed in {time.time() - start_time:.2f} seconds\")"
   ]
  },
  {
   "cell_type": "code",
   "execution_count": null,
   "id": "bacbdf2c-a479-4d30-aa3d-768a31943a2d",
   "metadata": {},
   "outputs": [],
   "source": []
  },
  {
   "cell_type": "code",
   "execution_count": null,
   "id": "773640ce-e70d-4a16-808f-f3129fea186a",
   "metadata": {},
   "outputs": [],
   "source": []
  },
  {
   "cell_type": "code",
   "execution_count": null,
   "id": "4754106e-4240-49e3-aaa1-97674287419c",
   "metadata": {},
   "outputs": [],
   "source": []
  },
  {
   "cell_type": "code",
   "execution_count": null,
   "id": "b6defc96-c583-425f-ad02-3395683a00de",
   "metadata": {},
   "outputs": [],
   "source": []
  }
 ],
 "metadata": {
  "kernelspec": {
   "display_name": "Python (pytorchenv)",
   "language": "python",
   "name": "pytorchenv"
  },
  "language_info": {
   "codemirror_mode": {
    "name": "ipython",
    "version": 3
   },
   "file_extension": ".py",
   "mimetype": "text/x-python",
   "name": "python",
   "nbconvert_exporter": "python",
   "pygments_lexer": "ipython3",
   "version": "3.10.15"
  }
 },
 "nbformat": 4,
 "nbformat_minor": 5
}
